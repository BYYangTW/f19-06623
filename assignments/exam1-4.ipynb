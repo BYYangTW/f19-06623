{
 "cells": [
  {
   "cell_type": "markdown",
   "metadata": {},
   "source": [
    "- ASSIGNMENT: exam1-4\n",
    "- POINTS: 3\n",
    "- CATEGORY: exam-1\n",
    "- RUBRIC: default\n",
    "- RUBRIC_CATEGORIES: technical, presentation\n",
    "- RUBRIC_WEIGHTS: 0.9, 0.1\n",
    "- DUEDATE: 2019-09-30 17:20:00\n",
    "- GRADER: Yilin Yang\n"
   ]
  },
  {
   "cell_type": "markdown",
   "metadata": {},
   "source": [
    "## Academic honesty statement\n",
    "\n"
   ]
  },
  {
   "cell_type": "markdown",
   "metadata": {},
   "source": [
    "**This is an exam problem. You are required to be in class to work on this. By turning this in you certify that it is your own work and you have not received any unauthorized assistance.**\n",
    "\n",
    "Place your academic honesty statement here. Here are some acceptable examples.\n",
    "\n",
    "-   I worked alone on this assignment.\n",
    "-   I worked with <span class=\"underline\"><span class=\"underline\"><span class=\"underline\"><span class=\"underline\">\\_\\_</span></span></span></span> on this assignment.”\n",
    "-   I received assistance from <span class=\"underline\"><span class=\"underline\"><span class=\"underline\"><span class=\"underline\">\\_</span></span></span></span> on this assignment.\n",
    "\n"
   ]
  },
  {
   "cell_type": "markdown",
   "metadata": {},
   "source": [
    "## Bessel equation solutions\n",
    "\n"
   ]
  },
  {
   "cell_type": "markdown",
   "metadata": {},
   "source": [
    "Bessel's equation comes up in many scientific applications including heat conduction and vibrations:\n",
    "\n",
    "$x^2 y'' + x y' + (x^2 - 1) y = 0, y(0) = 0, y'(0) = 0.5$\n",
    "\n",
    "Use solve\\_ivp to get a solution to this equation over the range of x=0 to x=10. Plot your solution. Note there is a singularity at the initial condition for x=0. This is a little tricky to handle. The best way to handle this is with a conditional statement like this when you define the derivatives:\n",
    "\n"
   ]
  },
  {
   "cell_type": "code",
   "execution_count": 1,
   "metadata": {},
   "outputs": [],
   "source": [
    "dydx = 0.5 if x==0.0 else (expression for your derivative)"
   ]
  },
  {
   "cell_type": "code",
   "execution_count": 1,
   "metadata": {},
   "outputs": [],
   "source": []
  },
  {
   "cell_type": "markdown",
   "metadata": {},
   "source": [
    "There is a known solution to this ODE, which is called a Bessel function of the first kind of order 1. This function exists in scipy and can be used like this.\n",
    "\n"
   ]
  },
  {
   "cell_type": "code",
   "execution_count": 1,
   "metadata": {},
   "outputs": [],
   "source": [
    "import numpy as np\n",
    "%matplotlib inline\n",
    "import matplotlib.pyplot as plt\n",
    "from scipy.special import j1\n",
    "\n",
    "x = np.linspace(0, 10)\n",
    "Y = j1(x)\n",
    "plt.plot(x, Y)\n",
    "plt.xlabel('x')\n",
    "plt.ylabel('y')\n",
    "plt.title('Bessel function of first kind, order=1')"
   ]
  },
  {
   "cell_type": "markdown",
   "metadata": {},
   "source": [
    "Determine if this function satisfies the Bessel equation. You should try to show that it solves the equation over the whole range if possible. Explain your reasoning for how you do this. Note that I want to see numerical evidence that it is a solution.\n",
    "\n"
   ]
  },
  {
   "cell_type": "code",
   "execution_count": 1,
   "metadata": {},
   "outputs": [],
   "source": []
  }
 ],
 "metadata": {
  "kernelspec": {
   "display_name": "Python 3",
   "language": "python",
   "name": "python3"
  },
  "language_info": {
   "codemirror_mode": {
    "name": "ipython",
    "version": 3
   },
   "file_extension": ".py",
   "mimetype": "text/x-python",
   "name": "python",
   "nbconvert_exporter": "python",
   "pygments_lexer": "ipython3",
   "version": "3.6.8"
  },
  "org": {
   "ASSIGNMENT": "exam1-4",
   "CATEGORY": "exam-1",
   "DUEDATE": "2019-09-30 17:20:00",
   "GRADER": "Yilin Yang",
   "POINTS": "3",
   "RUBRIC": "default",
   "RUBRIC_CATEGORIES": "technical, presentation",
   "RUBRIC_WEIGHTS": "0.9, 0.1"
  }
 },
 "nbformat": 4,
 "nbformat_minor": 1
}
