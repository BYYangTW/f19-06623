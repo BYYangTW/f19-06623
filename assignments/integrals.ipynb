{
 "cells": [
  {
   "cell_type": "markdown",
   "metadata": {},
   "source": [
    "- ASSIGNMENT: integrals\n",
    "- POINTS: 1\n",
    "- CATEGORY: homework\n",
    "- RUBRIC: default\n",
    "- RUBRIC_CATEGORIES: technical, presentation\n",
    "- RUBRIC_WEIGHTS: 0.9, 0.1\n",
    "- DUEDATE: 2019-09-05 23:59:59\n",
    "- GRADER: Mingjie Liu\n"
   ]
  },
  {
   "cell_type": "markdown",
   "metadata": {},
   "source": [
    "## Academic honesty statement\n",
    "\n"
   ]
  },
  {
   "cell_type": "markdown",
   "metadata": {},
   "source": [
    "Place your academic honesty statement here. Here are some acceptable examples.\n",
    "\n",
    "-   I worked alone on this assignment.\n",
    "-   I worked with <span class=\"underline\"><span class=\"underline\"><span class=\"underline\"><span class=\"underline\">\\_\\_</span></span></span></span> on this assignment.”\n",
    "-   I received assistance from <span class=\"underline\"><span class=\"underline\"><span class=\"underline\"><span class=\"underline\">\\_</span></span></span></span> on this assignment.\n",
    "\n"
   ]
  },
  {
   "cell_type": "markdown",
   "metadata": {},
   "source": [
    "## even or odd functions\n",
    "\n"
   ]
  },
  {
   "cell_type": "markdown",
   "metadata": {},
   "source": [
    "An odd function $o(x)$ satisfies $o(x)=-o(-x)$ for all $x$. Therefore, for any finite $t$:\n",
    "\n",
    "$$\\int_{-t}^{t}o(x) dx=0$$.\n",
    "\n",
    "An even function $e(x)$ satisfies $e(x) = e(-x)$ for all $x$. Therefore, for any $t$:\n",
    "\n",
    "$$\\int_{-t}^{t}e(x) dx=2 \\int_{0}^{t}e(x) dx$$.\n",
    "\n",
    "if $f(x) = \\frac{x^3 - 2x}{x^4 + 1}$, determine if it is even or odd using both the criteria described above and using Python.\n",
    "\n"
   ]
  },
  {
   "cell_type": "code",
   "execution_count": 1,
   "metadata": {},
   "outputs": [],
   "source": []
  },
  {
   "cell_type": "markdown",
   "metadata": {},
   "source": [
    "Explain in words your reasoning.\n",
    "\n"
   ]
  },
  {
   "cell_type": "markdown",
   "metadata": {},
   "source": [
    "## Convenient change of variables\n",
    "\n"
   ]
  },
  {
   "cell_type": "markdown",
   "metadata": {},
   "source": [
    "The following statement is true, and is sometimes used to make integrals easier to evaluate.\n",
    "\n",
    "$\\int_a^b f(x)dx = \\int_a^b f(a + b - x) dx$\n",
    "\n",
    "Show that it is true for the integral:\n",
    "\n",
    "$\\int_3^7 \\frac{\\ln(x+2)}{\\ln(24 + 10 x - x^2)}dx$\n",
    "\n"
   ]
  },
  {
   "cell_type": "code",
   "execution_count": 1,
   "metadata": {},
   "outputs": [],
   "source": []
  },
  {
   "cell_type": "markdown",
   "metadata": {},
   "source": [
    "## Evaluate this integral numerically using Python\n",
    "\n"
   ]
  },
  {
   "cell_type": "markdown",
   "metadata": {},
   "source": [
    "$\\int_0^\\infty \\frac{\\ln(x)}{x^2 + 2 x + 4}$\n",
    "\n"
   ]
  },
  {
   "cell_type": "code",
   "execution_count": 1,
   "metadata": {},
   "outputs": [],
   "source": []
  }
 ],
 "metadata": {
  "kernelspec": {
   "display_name": "Python 3",
   "language": "python",
   "name": "python3"
  },
  "language_info": {
   "codemirror_mode": {
    "name": "ipython",
    "version": 3
   },
   "file_extension": ".py",
   "mimetype": "text/x-python",
   "name": "python",
   "nbconvert_exporter": "python",
   "pygments_lexer": "ipython3",
   "version": "3.6.0"
  },
  "org": {
   "ASSIGNMENT": "integrals",
   "CATEGORY": "homework",
   "DUEDATE": "2019-09-05 23:59:59",
   "GRADER": "Mingjie Liu",
   "POINTS": "1",
   "RUBRIC": "default",
   "RUBRIC_CATEGORIES": "technical, presentation",
   "RUBRIC_WEIGHTS": "0.9, 0.1"
  }
 },
 "nbformat": 4,
 "nbformat_minor": 1
}
