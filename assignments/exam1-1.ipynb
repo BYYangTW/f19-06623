{
 "cells": [
  {
   "cell_type": "markdown",
   "metadata": {},
   "source": [
    "- ASSIGNMENT: exam1-1\n",
    "- POINTS: 2\n",
    "- CATEGORY: exam-1\n",
    "- RUBRIC: default\n",
    "- RUBRIC_CATEGORIES: technical, presentation\n",
    "- RUBRIC_WEIGHTS: 0.9, 0.1\n",
    "- DUEDATE: 2019-09-30 17:20:00\n",
    "- GRADER: John Kitchin\n"
   ]
  },
  {
   "cell_type": "markdown",
   "metadata": {},
   "source": [
    "## Academic honesty statement\n",
    "\n"
   ]
  },
  {
   "cell_type": "markdown",
   "metadata": {},
   "source": [
    "**This is an exam problem. You are required to be in class to work on this. By turning this in you certify that it is your own work and you have not received any unauthorized assistance.**\n",
    "\n",
    "Place your academic honesty statement here. Here are some acceptable examples.\n",
    "\n",
    "-   I worked alone on this assignment.\n",
    "-   I worked with <span class=\"underline\"><span class=\"underline\"><span class=\"underline\"><span class=\"underline\">\\_\\_</span></span></span></span> on this assignment.”\n",
    "-   I received assistance from <span class=\"underline\"><span class=\"underline\"><span class=\"underline\"><span class=\"underline\">\\_</span></span></span></span> on this assignment.\n",
    "\n"
   ]
  },
  {
   "cell_type": "markdown",
   "metadata": {},
   "source": [
    "## Modeling a biological process\n",
    "\n"
   ]
  },
  {
   "cell_type": "markdown",
   "metadata": {},
   "source": [
    "A biological process involves the growth of biomass ($B$) from substrate ($S$). Material balances have been derived for each species that represent the production of biomass and the consumption of substrate.\n",
    "\n",
    "$\\frac{dB}{dt} = \\frac{k B S}{K + S}$\n",
    "\n",
    "and\n",
    "\n",
    "$\\frac{dS}{dt} = -\\frac{0.75 k B S}{K + S}$\n",
    "\n",
    "where $B$ is the concentration of biomass, and $S$ is the concentration of substrate. It is known that $k=0.3$ and $K=10^{-6}$ in consistent units.\n",
    "\n",
    "Plot the concentrations of biomass and substrate as a function of time if at $t=0$, $S=5.0$ and $B=0.05$. Use your solution to determine the maximum amount of biomass that can form. You can assume the equations are valid as long as the solution is physically relevant. Discuss your solution, and any potential issues with it.\n",
    "\n"
   ]
  },
  {
   "cell_type": "code",
   "execution_count": 1,
   "metadata": {},
   "outputs": [],
   "source": []
  }
 ],
 "metadata": {
  "kernelspec": {
   "display_name": "Python 3",
   "language": "python",
   "name": "python3"
  },
  "language_info": {
   "codemirror_mode": {
    "name": "ipython",
    "version": 3
   },
   "file_extension": ".py",
   "mimetype": "text/x-python",
   "name": "python",
   "nbconvert_exporter": "python",
   "pygments_lexer": "ipython3",
   "version": "3.6.8"
  },
  "org": {
   "ASSIGNMENT": "exam1-1",
   "CATEGORY": "exam-1",
   "DUEDATE": "2019-09-30 17:20:00",
   "GRADER": "John Kitchin",
   "POINTS": "2",
   "RUBRIC": "default",
   "RUBRIC_CATEGORIES": "technical, presentation",
   "RUBRIC_WEIGHTS": "0.9, 0.1"
  }
 },
 "nbformat": 4,
 "nbformat_minor": 1
}
