{
 "cells": [
  {
   "cell_type": "markdown",
   "metadata": {},
   "source": [
    "- ASSIGNMENT: exam1-3\n",
    "- POINTS: 3\n",
    "- CATEGORY: exam-1\n",
    "- RUBRIC: default\n",
    "- RUBRIC_CATEGORIES: technical, presentation\n",
    "- RUBRIC_WEIGHTS: 0.9, 0.1\n",
    "- DUEDATE: 2019-09-30 17:20:00\n",
    "- GRADER: John Kitchin\n"
   ]
  },
  {
   "cell_type": "markdown",
   "metadata": {},
   "source": [
    "## Academic honesty statement\n",
    "\n"
   ]
  },
  {
   "cell_type": "markdown",
   "metadata": {},
   "source": [
    "**This is an exam problem. You are required to be in class to work on this. By turning this in you certify that it is your own work and you have not received any unauthorized assistance.**\n",
    "\n",
    "Place your academic honesty statement here. Here are some acceptable examples.\n",
    "\n",
    "-   I worked alone on this assignment.\n",
    "-   I worked with <span class=\"underline\"><span class=\"underline\"><span class=\"underline\"><span class=\"underline\">\\_\\_</span></span></span></span> on this assignment.”\n",
    "-   I received assistance from <span class=\"underline\"><span class=\"underline\"><span class=\"underline\"><span class=\"underline\">\\_</span></span></span></span> on this assignment.\n",
    "\n"
   ]
  },
  {
   "cell_type": "markdown",
   "metadata": {},
   "source": [
    "## Solving stiff ODEs\n",
    "\n"
   ]
  },
  {
   "cell_type": "markdown",
   "metadata": {},
   "source": [
    "The ODE $y' = -20 y + 20 x^2 + 2 x, y(0)=1$ has the solution $y=e^{-20x} + x^2$. The large negative exponential is a fast changing function compared to the quadratic term, which suggests this is a stiff differential equation. It is not so stiff that it is a problem to solve numerically though. We will explore two approaches to solve this ODE.\n",
    "\n",
    "First, use solve\\_ivp to get a numerical solution to this ODE over the range $x=0$ to $x=1$ and compare it to the analytical solution.\n",
    "\n"
   ]
  },
  {
   "cell_type": "code",
   "execution_count": 1,
   "metadata": {},
   "outputs": [],
   "source": []
  },
  {
   "cell_type": "markdown",
   "metadata": {},
   "source": [
    "## Backward Euler method\n",
    "\n"
   ]
  },
  {
   "cell_type": "markdown",
   "metadata": {},
   "source": [
    "Stiff ODEs can be challenging to solve with standard integrators because you need small steps if you integrate forward like we did with the forward Euler method, especially where the solution changes quickly. An alternative approach is the *backward Euler formula*, which tends to be more accurate for stiff systems. If we have $y' = f(x, y)$ and an initial condition, then we can estimate the next value using this formula:\n",
    "\n",
    "$y_{n+1} = y_n + h f(x_{n+1}, y_{n+1})$\n",
    "\n",
    "In this formula $x_{n+1} = x_n + h$ and $h$ is the integration step size. The backward Euler formula is *implicit* in $y_{n+1}$:\n",
    "\n",
    "$y_{n+1} = y_n + h(-20 y_{n+1} + 20x_{n+1}^2 + 2 x_{n+1})$\n",
    "\n",
    "You can solve for $y_{n+1}$ analytically in this problem:\n",
    "\n",
    "$y_{n+1} = (y_n + h (20 x_{n+1}^2 + 2 x_{n+1})) / ( 1 + 20 h)$.\n",
    "\n",
    "Double check that formula, then use it to find a solution to the ODE. Compare your solution to the analytical solution.\n",
    "\n"
   ]
  },
  {
   "cell_type": "code",
   "execution_count": 1,
   "metadata": {},
   "outputs": [],
   "source": []
  }
 ],
 "metadata": {
  "kernelspec": {
   "display_name": "Python 3",
   "language": "python",
   "name": "python3"
  },
  "language_info": {
   "codemirror_mode": {
    "name": "ipython",
    "version": 3
   },
   "file_extension": ".py",
   "mimetype": "text/x-python",
   "name": "python",
   "nbconvert_exporter": "python",
   "pygments_lexer": "ipython3",
   "version": "3.6.8"
  },
  "org": {
   "ASSIGNMENT": "exam1-3",
   "CATEGORY": "exam-1",
   "DUEDATE": "2019-09-30 17:20:00",
   "GRADER": "John Kitchin",
   "POINTS": "3",
   "RUBRIC": "default",
   "RUBRIC_CATEGORIES": "technical, presentation",
   "RUBRIC_WEIGHTS": "0.9, 0.1"
  }
 },
 "nbformat": 4,
 "nbformat_minor": 1
}
