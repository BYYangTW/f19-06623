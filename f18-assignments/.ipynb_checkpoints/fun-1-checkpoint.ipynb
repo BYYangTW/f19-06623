{
 "cells": [
  {
   "cell_type": "markdown",
   "metadata": {},
   "source": [
    "- ASSIGNMENT: fun-1\n",
    "- POINTS: 1\n",
    "- CATEGORY: homework\n",
    "- RUBRIC: default\n",
    "- RUBRIC_CATEGORIES: technical, presentation\n",
    "- RUBRIC_WEIGHTS: 0.8, 0.2\n",
    "- DUEDATE: 2018-09-07 23:59:59\n",
    "- GRADER: John Kitchin\n"
   ]
  },
  {
   "cell_type": "markdown",
   "metadata": {},
   "source": [
    "The van der Waals equation of state for a gas is defined by:\n",
    "\n",
    "$\\left(P + \\frac{a}{V^2}\\right)(V - b) = RT$\n",
    "\n",
    "where $a$ and $b$ are defined by:\n",
    "\n",
    "$a = \\frac{27}{64}\\left(\\frac{R^2 T_c^2}{P_c}\\right)$\n",
    "\n",
    "$b = \\frac{R T_c}{8 P_c}$\n",
    "\n",
    "In these equations, $V$ is the molar volume, $P$ is the pressure, and $T$ is the temperature.\n",
    "\n",
    "$R$ is the gas constant, $P_c$ is the critical pressure of\n",
    "the gas, and $T_c$ is the critical temperature.\n",
    "\n",
    "For ammonia, $P_c = 111.3$ atm, $T_c = 405.5$ K, and in these units, $R = 0.08206$ (atm L)/(mol K).\n",
    "\n",
    "Suppose the temperature is 450 K, and the pressure is 56 atm. Now, the only undefined quantity is the molar volume, and we would like to solve for it. We have not learned how to do this yet, so today we will just use a graphical method to estimate how to do it.\n",
    "\n",
    "It is not worth the effort to do all the algebra required to find $V$. Instead, we recognize that the solution will be the value of $V$ that makes the following equation true:\n",
    "\n",
    "$f(V) = \\left(P + \\frac{a}{V^2}\\right)(V - b) - RT = 0$\n",
    "\n",
    "So, if we define the function above, and plot it for some range of $V$, we can graphically estimate the solution by looking on the graph where is the function equal to zero.\n",
    "\n"
   ]
  },
  {
   "cell_type": "markdown",
   "metadata": {},
   "source": [
    "\n",
    "# Define a f(V)\n",
    "\n"
   ]
  },
  {
   "cell_type": "markdown",
   "metadata": {},
   "source": [
    "Define a function for f(V) as defined above.\n",
    "\n"
   ]
  },
  {
   "cell_type": "code",
   "execution_count": 1,
   "metadata": {},
   "outputs": [],
   "source": []
  },
  {
   "cell_type": "markdown",
   "metadata": {},
   "source": [
    "\n",
    "# Plot f(V) over a range of V, and find a solution to the equation\n",
    "\n"
   ]
  },
  {
   "cell_type": "markdown",
   "metadata": {},
   "source": [
    "You can estimate the solution from the graph. Adjust the molar volume range so you can estimate the solution to two decimal places.\n",
    "\n"
   ]
  },
  {
   "cell_type": "code",
   "execution_count": 1,
   "metadata": {},
   "outputs": [],
   "source": []
  }
 ],
 "metadata": {
  "kernelspec": {
   "display_name": "Python 3",
   "language": "python",
   "name": "python3"
  },
  "language_info": {
   "codemirror_mode": {
    "name": "ipython",
    "version": 3
   },
   "file_extension": ".py",
   "mimetype": "text/x-python",
   "name": "python",
   "nbconvert_exporter": "python",
   "pygments_lexer": "ipython3",
   "version": "3.6.0"
  },
  "org": {
   "ASSIGNMENT": "fun-1",
   "CATEGORY": "homework",
   "DUEDATE": "2018-09-07 23:59:59",
   "GRADER": "John Kitchin",
   "POINTS": "1",
   "RUBRIC": "default",
   "RUBRIC_CATEGORIES": "technical, presentation",
   "RUBRIC_WEIGHTS": "0.8, 0.2"
  }
 },
 "nbformat": 4,
 "nbformat_minor": 1
}
