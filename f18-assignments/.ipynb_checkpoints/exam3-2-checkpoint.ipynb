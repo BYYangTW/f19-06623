{
 "cells": [
  {
   "cell_type": "markdown",
   "metadata": {},
   "source": [
    "- ASSIGNMENT: exam3-2\n",
    "- POINTS: 3\n",
    "- CATEGORY: exam-3\n",
    "- RUBRIC: default\n",
    "- RUBRIC_CATEGORIES: technical, presentation\n",
    "- RUBRIC_WEIGHTS: 0.8, 0.2\n",
    "- DUEDATE: 2018-12-10 23:59:59\n",
    "- GRADER: John Kitchin\n"
   ]
  },
  {
   "cell_type": "markdown",
   "metadata": {},
   "source": [
    "We have mostly focused on numerical solutions to ODEs. Sometimes, it is possible to leverage Python to obtain analytical solutions though. This problem will focus on a way to do that.\n",
    "\n",
    "$y1'(t) = -0.02 y1 + 0.02 y2$\n",
    "\n",
    "$y2'(t) = 0.02 y1 - 0.02 y2$\n",
    "\n",
    "with the initial conditions that $y1(0) = 150$ and $y2(0) = 0$.\n",
    "\n",
    "We can rewrite the equations in matrix form:\n",
    "\n",
    "$\\mathbf{y'} = \\mathbf{A} \\mathbf{y}$\n",
    "\n",
    "This is a set of constant coefficient, coupled ODEs. We can try a solution of the form:\n",
    "\n",
    "$\\mathbf{y} = \\mathbf{x} e^{\\lambda t}$, where we have an unknown $\\mathbf{x}$ and $\\lambda$, and we seek to find values for these that solve the equations.\n",
    "\n",
    "If you plug this in to the equations then we find:\n",
    "\n",
    "$\\mathbf{y'} = \\lambda \\mathbf{x} e^{\\lambda t} = \\mathbf{A} \\mathbf{x} e^{\\lambda t}$\n",
    "\n",
    "Or, with some minor rearrangement:\n",
    "\n",
    "$mathbf{A} \\mathbf{x} = \\lambda \\mathbf{x}$\n",
    "\n",
    "This is an eigenvalue problem, and the solutions to it are the pairs of eigenvalues ($\\lambda$) and corresponding eigenvectors ($\\mathbf{x}$).\n",
    "\n",
    "Find the eigenvalues and eigenvectors of this system of equations:\n",
    "\n"
   ]
  },
  {
   "cell_type": "code",
   "execution_count": 1,
   "metadata": {},
   "outputs": [],
   "source": []
  },
  {
   "cell_type": "markdown",
   "metadata": {},
   "source": [
    "The solution to the system of ODEs is then a linear combination defined by:\n",
    "\n",
    "$\\mathbf{y(t)} = c_0 \\mathbf{x_0} e^{\\lambda_0 t} + c_21 \\mathbf{x_1} e^{\\lambda_1 t}$\n",
    "\n",
    "where $c_i$ are arbitrary constants, and $\\mathbf{x_i}$ is the i<sup>th</sup> eigenvector that corresponds to the i<sup>th</sup> eigenvalue $\\lambda_i$. To find the values of $c_i$ we must use the initial conditions. At $t=0$ we can express this in the form:\n",
    "\n",
    "\\begin{equation}\n",
    "\\left[\\begin{array}{c}y1(0) \\\\ y2(0)\\end{array}\\right]=\n",
    "[\\mathbf{x_0} & \\mathbf{x_1}]\n",
    "\\left[\\begin{array}{c}c_0\\\\c_1\\end{array}\\right]\n",
    "\\end{equation}\n",
    "\n",
    "where $[\\mathbf{x_0} & \\mathbf{x_1}]$ is an array with $\\mathbf{x_i}$ in the i<sup>th</sup> column, in other words it is an array of the eigenvectors in column form.\n",
    "\n",
    "Solve this linear equation for the unknown coefficients $\\mathbf{c}$.\n",
    "\n"
   ]
  },
  {
   "cell_type": "code",
   "execution_count": 1,
   "metadata": {},
   "outputs": [],
   "source": []
  },
  {
   "cell_type": "markdown",
   "metadata": {},
   "source": [
    "Finally, plot the solution for $y1(t)$ and $y2(t)$.\n",
    "\n"
   ]
  },
  {
   "cell_type": "code",
   "execution_count": 1,
   "metadata": {},
   "outputs": [],
   "source": []
  }
 ],
 "metadata": {
  "kernelspec": {
   "display_name": "Python 3",
   "language": "python",
   "name": "python3"
  },
  "language_info": {
   "codemirror_mode": {
    "name": "ipython",
    "version": 3
   },
   "file_extension": ".py",
   "mimetype": "text/x-python",
   "name": "python",
   "nbconvert_exporter": "python",
   "pygments_lexer": "ipython3",
   "version": "3.6.0"
  },
  "org": {
   "ASSIGNMENT": "exam3-2",
   "CATEGORY": "exam-3",
   "DUEDATE": "2018-12-10 23:59:59",
   "GRADER": "John Kitchin",
   "POINTS": "3",
   "RUBRIC": "default",
   "RUBRIC_CATEGORIES": "technical, presentation",
   "RUBRIC_WEIGHTS": "0.8, 0.2"
  }
 },
 "nbformat": 4,
 "nbformat_minor": 1
}
