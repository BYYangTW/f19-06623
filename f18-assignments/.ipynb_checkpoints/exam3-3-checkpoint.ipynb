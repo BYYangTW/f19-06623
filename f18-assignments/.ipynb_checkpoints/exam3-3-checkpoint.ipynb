{
 "cells": [
  {
   "cell_type": "markdown",
   "metadata": {},
   "source": [
    "- ASSIGNMENT: exam3-3\n",
    "- POINTS: 3\n",
    "- CATEGORY: exam-3\n",
    "- RUBRIC: default\n",
    "- RUBRIC_CATEGORIES: technical, presentation\n",
    "- RUBRIC_WEIGHTS: 0.8, 0.2\n",
    "- DUEDATE: 2018-12-10 23:59:59\n",
    "- GRADER: John Kitchin\n"
   ]
  },
  {
   "cell_type": "markdown",
   "metadata": {},
   "source": [
    "A common problem in solving nonlinear problems is *how to make the initial guess*?\n",
    "\n",
    "Let's consider finding the solution to the following nonlinear equations:\n",
    "\n",
    "$2 + x + y - x^2 + 8 x y + y^3 = 0$\n",
    "\n",
    "$1 + 2x - 3y + x^2 + xy - y e^x = 0$\n",
    "\n",
    "The strategy we work on here is to reformulate these equations with a new variable $\\lambda$\n",
    "\n",
    "$2 + x + y + \\lambda(- x^2 + 8 x y + y^3) = 0$\n",
    "\n",
    "$1 + 2x - 3y + \\lambda(x^2 + xy - y e^x) = 0$\n",
    "\n",
    "If $\\lambda=1$ then we have the original nonlinear equations. If you set $\\lambda=0$ though, you have a simple linear set of equations to solve. Find a solution to those equations for $\\lambda=0$:\n",
    "\n"
   ]
  },
  {
   "cell_type": "code",
   "execution_count": 1,
   "metadata": {},
   "outputs": [],
   "source": []
  },
  {
   "cell_type": "markdown",
   "metadata": {},
   "source": [
    "Next, from calculus, you can show that:\n",
    "\n",
    "$\\frac{\\partial f}{\\partial x}\\frac{\\partial x}{\\partial \\lambda}+\\frac{\\partial f}{\\partial y}\\frac{\\partial y}{\\partial \\lambda}=-\\frac{\\partial f}{\\partial \\lambda}$\n",
    "\n",
    "$\\frac{\\partial g}{\\partial x}\\frac{\\partial x}{\\partial \\lambda}+\\frac{\\partial g}{\\partial y}\\frac{\\partial y}{\\partial \\lambda}=-\\frac{\\partial g}{\\partial \\lambda}$\n",
    "\n",
    "You can rewrite this in a linear algebra form as:\n",
    "\n",
    "$$\n",
    "\\left[\\begin{array}{cc}\n",
    "\\frac{\\partial f}{\\partial x} \\frac{\\partial f}{\\partial y} \\\\\n",
    "\\frac{\\partial g}{\\partial x} \\frac{\\partial g}{\\partial y}\n",
    "\\end{array}\\right]\n",
    "\\left[\\begin{array}{c}\n",
    "\\frac{\\partial x}{\\partial \\lambda}\\\\\n",
    "\\frac{\\partial y}{\\partial \\lambda}\n",
    "\\end{array}\\right]\n",
    "=\n",
    "\\left[\\begin{array}{c}\n",
    "-\\frac{\\partial f}{\\partial \\lambda}\\\\\n",
    "-\\frac{\\partial g}{\\partial \\lambda}\n",
    "\\end{array}\\right]\n",
    "\\end{array}$$\n",
    "\n",
    "The matrix on the left is the Jacobian of $F = [f(x,y), g(x, y)]$. This means you can solve for:\n",
    "\n",
    "$$\\left[\\begin{array}{c}\n",
    "\\frac{\\partial x}{\\partial \\lambda}\\\\\n",
    "\\frac{\\partial y}{\\partial \\lambda}\n",
    "\\end{array}\\right]\n",
    "=\n",
    "\\mathbf{J}^{-1}\n",
    "\\left[\\begin{array}{c}\n",
    "-\\frac{\\partial f}{\\partial \\lambda}\\\\\n",
    "-\\frac{\\partial g}{\\partial \\lambda}\n",
    "\\end{array}\\right]\n",
    "\\end{array}$$\n",
    "\n",
    "This last equation defines a set of differential equations that can be integrated from $\\lambda=0$ where we know what (x, y) are, to $\\lambda=1$ which leads to a solution to the original set of nonlinear equations!\n",
    "\n"
   ]
  },
  {
   "cell_type": "code",
   "execution_count": 1,
   "metadata": {},
   "outputs": [],
   "source": []
  },
  {
   "cell_type": "code",
   "execution_count": 1,
   "metadata": {},
   "outputs": [
    {
     "name": "stdout",
     "output_type": "stream",
     "text": [
      "# Out[174]:\n",
      "# output\n",
      "[-1.4 -0.6]\n",
      "The solution is at x=-1.000, y=0.000\n",
      "[ -1.27841341e-06  -1.15929141e-06]"
     ]
    }
   ],
   "source": [
    "import autograd.numpy as np\n",
    "from autograd import jacobian\n",
    "\n",
    "def F(X, L):\n",
    "    x, y = X\n",
    "    f = (2.0 + x + y) + L * (-x**2 + 8 * x * y + y**3)\n",
    "    g = (1.0 + 2.0 * x - 3.0 * y) + L * (x**2 + x * y - y * np.exp(x))\n",
    "    return np.array([f, g])\n",
    "\n",
    "J = jacobian(F)\n",
    "J(np.array([-1.4, -0.6]), 0.0)\n",
    "\n",
    "dFdL = jacobian(F, 1)\n",
    "\n",
    "x0 = np.linalg.solve([[1., 1.], [2., -3.]],[ -2, -1])\n",
    "print(x0)\n",
    "\n",
    "def ode(X, L):\n",
    "    x, y = X\n",
    "    j = J(np.array([x, y]), L)\n",
    "    dXdL = np.linalg.inv(j) @ -dFdL(np.array([x, y]), L)\n",
    "    return dXdL\n",
    "\n",
    "from scipy.integrate import odeint\n",
    "\n",
    "lambda_span = np.linspace(0, 1, 1000)\n",
    "\n",
    "X = odeint(ode, x0, lambda_span)\n",
    "\n",
    "xsol, ysol = X[-1]\n",
    "print('The solution is at x={0:1.3f}, y={1:1.3f}'.format(xsol, ysol))\n",
    "print(F([xsol, ysol], 1))"
   ]
  },
  {
   "cell_type": "code",
   "execution_count": 1,
   "metadata": {},
   "outputs": [],
   "source": []
  }
 ],
 "metadata": {
  "kernelspec": {
   "display_name": "Python 3",
   "language": "python",
   "name": "python3"
  },
  "language_info": {
   "codemirror_mode": {
    "name": "ipython",
    "version": 3
   },
   "file_extension": ".py",
   "mimetype": "text/x-python",
   "name": "python",
   "nbconvert_exporter": "python",
   "pygments_lexer": "ipython3",
   "version": "3.6.0"
  },
  "org": {
   "ASSIGNMENT": "exam3-3",
   "CATEGORY": "exam-3",
   "DUEDATE": "2018-12-10 23:59:59",
   "GRADER": "John Kitchin",
   "POINTS": "3",
   "RUBRIC": "default",
   "RUBRIC_CATEGORIES": "technical, presentation",
   "RUBRIC_WEIGHTS": "0.8, 0.2"
  }
 },
 "nbformat": 4,
 "nbformat_minor": 1
}
