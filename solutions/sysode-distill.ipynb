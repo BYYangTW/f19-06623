{
 "cells": [
  {
   "cell_type": "markdown",
   "metadata": {},
   "source": [
    "### Academic honesty statement\n",
    "\n"
   ]
  },
  {
   "cell_type": "markdown",
   "metadata": {},
   "source": [
    "Place your academic honesty statement here. Here are some acceptable examples.\n",
    "\n",
    "-   I worked alone on this assignment.\n",
    "-   I worked with <span class=\"underline\"><span class=\"underline\"><span class=\"underline\"><span class=\"underline\">\\_\\_</span></span></span></span> on this assignment.”\n",
    "-   I received assistance from <span class=\"underline\"><span class=\"underline\"><span class=\"underline\"><span class=\"underline\">\\_</span></span></span></span> on this assignment.\n",
    "\n"
   ]
  },
  {
   "cell_type": "markdown",
   "metadata": {},
   "source": [
    "### Binary batch distillation\n",
    "\n"
   ]
  },
  {
   "cell_type": "markdown",
   "metadata": {},
   "source": [
    "In the binary, batch distillation of benzene (1) and toluene (2), the moles of liquid $L$ remaining as a function of the mole fraction of toluene ($x_2$) is expressed by:\n",
    "\n",
    "$\\frac{dL}{dx_2} = \\frac{L}{x_2 (k_2 - 1)}$\n",
    "\n",
    "where $k_2$ is the vapor liquid equilibrium ratio for toluene. This can be computed as:\n",
    "\n",
    "$k_i = P_i / P$ where $P_i = 10^{A_i + \\frac{B_i}{T +C_i}}$ and that pressure is in mmHg, and the temperature is in degrees Celsius.\n",
    "\n",
    "As the batch distillation progresses, the temperature changes according to:\n",
    "\n",
    "$\\frac{dT}{dx_2} = \\frac{-(k_2 - k_1)}{\\ln(10)\\left[x_1 k_1 \\frac{-B_1}{(C_1 + T)^2} + x_2 k_2 \\frac{-B_2}{(C_2 + T)^2}\\right]}$\n",
    "\n",
    "with the relationship that $1 = x_1 + x_2$.\n",
    "\n",
    "Given the following information, determine how many moles of liquid are left in the distillation when $x_2 = 0.8$, and the temperature in the still at that point.\n",
    "\n",
    "The total pressure is fixed at 1.2 atm, and the distillation starts at $x_2=0.4$, there are initially 100 moles of liquid present, and an initial temperature of 95.6 degrees Celsius.\n",
    "\n",
    "| species|A|B|C|\n",
    "|---|---|---|---|\n",
    "| benzene|6.90565|-1211.033|220.79|\n",
    "| toluene|6.95464|-1344.8|219.482|\n",
    "\n"
   ]
  },
  {
   "cell_type": "code",
   "execution_count": 1,
   "metadata": {},
   "outputs": [],
   "source": []
  },
  {
   "cell_type": "markdown",
   "metadata": {},
   "source": [
    "Hint: The final temperature is about 108 degrees Celsius.\n",
    "\n"
   ]
  },
  {
   "cell_type": "markdown",
   "metadata": {},
   "source": [
    "### solution\n",
    "\n"
   ]
  },
  {
   "cell_type": "markdown",
   "metadata": {},
   "source": [
    "We have to setup a function that defines the two ODEs, and then solve it.  We then get the final moles and temperature from the last value of the solution. The only subtle points are that we have to convert one pressure from atm to mmHg, and we have to use the system pressure to compute the $k_i$.\n",
    "\n"
   ]
  },
  {
   "cell_type": "code",
   "execution_count": 1,
   "metadata": {},
   "outputs": [
    {
     "name": "stdout",
     "output_type": "stream",
     "text": [
      "# Out [3]:\n",
      "# output\n",
      "The final number of moles left is 14.04 moles and the temperature is 108.59 degC."
     ]
    }
   ],
   "source": [
    "import numpy as np\n",
    "from scipy.integrate import solve_ivp\n",
    "\n",
    "A1, B1, C1 = 6.90565, -1211.033, 220.79\n",
    "A2, B2, C2 = 6.95464, -1344.8, 219.482\n",
    "\n",
    "P = (760 * 1.2) # mmHg\n",
    "\n",
    "def ode(x2, X):\n",
    "    L, T = X\n",
    "\n",
    "    P1 = 10**(A1 + B1 / (T + C1))\n",
    "    P2 = 10**(A2 + B2 / (T + C2))\n",
    "\n",
    "    k1 = P1 / P\n",
    "    k2 = P2 / P\n",
    "    x1 = 1 - x2\n",
    "\n",
    "    dLdx2  = L / (x2 * (k2 - 1))\n",
    "    dTdx2 = -(k2 - k1) / (np.log(10) * (x1 * k1 * (-B1 / (C1 + T)**2)+ x2 * k2 * (-B2 / (C2 + T)**2)))\n",
    "    return dLdx2, dTdx2\n",
    "\n",
    "\n",
    "\n",
    "X0 = (100, 95.6)\n",
    "x2_span = (0.4, 0.8)\n",
    "sol = solve_ivp(ode,  x2_span, X0)\n",
    "sol\n",
    "\n",
    "L, T = sol.y\n",
    "\n",
    "print(f'The final number of moles left is {L[-1]:1.2f} moles and the temperature is {T[-1]:1.2f} degC.')"
   ]
  },
  {
   "cell_type": "markdown",
   "metadata": {},
   "source": [
    "It is a mistake to use $P = P1 + P2$. Why? Those are the vapor pressures of the pure components, and in the still the components are not pure. You could assume they are ideal, and use the mole fraction weighted sum of these though. That is the same as assuming the pressure is constant; temperature adjusts to keep the bubble point pressure at the system pressure. The dashed line shows that the weighted sum and the constant pressure are the same.\n",
    "\n"
   ]
  },
  {
   "cell_type": "code",
   "execution_count": 1,
   "metadata": {},
   "outputs": [
    {
     "name": "stdout",
     "output_type": "stream",
     "text": [
      "# Out [9]:\n",
      "# text/plain\n",
      "Text(0, 0.5, 'Pressure (mmHg)')\n",
      "\n",
      "# text/plain\n",
      "<Figure size 432x288 with 1 Axes>\n",
      "\n",
      "# image/png"
     ]
    },
    {
     "data": {
      "image/png": "[encoded data removed]",
      "text/plain": [
       "<matplotlib.figure.Figure>"
      ]
     },
     "metadata": {},
     "output_type": "display_data"
    }
   ],
   "source": [
    "P1 = 10**(A1 + B1 / (T + C1))\n",
    "P2 = 10**(A2 + B2 / (T + C2))\n",
    "x2 = sol.t\n",
    "x1 = 1 - x2\n",
    "\n",
    "%matplotlib inline\n",
    "import matplotlib.pyplot as plt\n",
    "plt.plot(x2, x1 * P1 + x2 * P2)\n",
    "plt.ylim([0, 1000])\n",
    "plt.axhline(P, c='r', ls='--')\n",
    "plt.xlabel('$x_2$')\n",
    "plt.ylabel('Pressure (mmHg)')"
   ]
  }
 ],
 "metadata": {
  "kernelspec": {
   "display_name": "Python 3",
   "language": "python",
   "name": "python3"
  },
  "language_info": {
   "codemirror_mode": {
    "name": "ipython",
    "version": 3
   },
   "file_extension": ".py",
   "mimetype": "text/x-python",
   "name": "python",
   "nbconvert_exporter": "python",
   "pygments_lexer": "ipython3",
   "version": "3.7.3"
  },
  "org": null
 },
 "nbformat": 4,
 "nbformat_minor": 1
}
