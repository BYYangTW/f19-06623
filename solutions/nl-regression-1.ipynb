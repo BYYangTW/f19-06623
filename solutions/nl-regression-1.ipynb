{
 "cells": [
  {
   "cell_type": "markdown",
   "metadata": {},
   "source": [
    "The following data is given for dose/response of a new drug.\n",
    "\n",
    "| Dose|Response|\n",
    "|---|---|\n",
    "| 0|0.1|\n",
    "| 1.3|0.5|\n",
    "| 2.8|0.9|\n",
    "| 5|2.6|\n",
    "| 10.2|7.1|\n",
    "| 16.5|12.3|\n",
    "| 21.3|15.3|\n",
    "| 31.8|20.4|\n",
    "| 52.2|24.2|\n",
    "\n",
    "A typical model for this data is\n",
    "\n",
    "$F(x) = d + \\frac{a - d}{1 + \\left(\\frac{x}{c}\\right)^b}$\n",
    "\n",
    "where\n",
    "\n",
    "-   **a:** Minimum asymptote. In a bioassay where you have a standard curve, this can be thought of as the response value at 0 standard concentration.\n",
    "-   **b:** Hill's slope. The Hill's slope refers to the steepness of the curve (can be positive or negative) at the inflection point.\n",
    "-   **c:** Inflection point. The inflection point is defined as the point on the curve where the curvature changes direction or signs. $c$ is the dose where $y=(d-a)/2$.\n",
    "-   **d:** Maximum asymptote. In a bioassay where you have a standard curve, this can be thought of as the response value for infinite standard concentration.\n",
    "\n",
    "Use this data to find values for $a, b, c, d$ and the confidence interval for each parameter. Provide an interpretation of the confidence intervals.\n",
    "\n"
   ]
  },
  {
   "cell_type": "code",
   "execution_count": 1,
   "metadata": {},
   "outputs": [],
   "source": []
  },
  {
   "cell_type": "markdown",
   "metadata": {},
   "source": [
    "Show your fit with the data in a plot.\n",
    "\n"
   ]
  },
  {
   "cell_type": "code",
   "execution_count": 1,
   "metadata": {},
   "outputs": [],
   "source": []
  },
  {
   "cell_type": "markdown",
   "metadata": {},
   "source": [
    "The residual errors are defined as the difference between the model and the data. Make a plot of the residual errors and discuss whether there are any patterns in the residuals.\n",
    "\n"
   ]
  },
  {
   "cell_type": "code",
   "execution_count": 1,
   "metadata": {},
   "outputs": [],
   "source": []
  },
  {
   "cell_type": "markdown",
   "metadata": {},
   "source": [
    "### solution\n",
    "\n"
   ]
  },
  {
   "cell_type": "markdown",
   "metadata": {},
   "source": [
    "We use nlinfit for this. There isn't anything real tricky, we have to guess the parameters based on the data and meaning of them above."
   ]
  },
  {
   "cell_type": "code",
   "execution_count": 5,
   "metadata": {},
   "outputs": [
    {
     "name": "stdout",
     "output_type": "stream",
     "text": [
      "a: [-0.16192382  0.46907915]\n",
      "b: [1.6140743  1.92944114]\n",
      "c: [18.03650497 20.66229562]\n",
      "d: [27.01307699 29.88276816]\n"
     ]
    }
   ],
   "source": [
    "import numpy as np\n",
    "\n",
    "dose = np.array([0, 1.3, 2.8, 5, 10.2, 16.5, 21.3, 31.8, 52.2])\n",
    "response = np.array([0.1, 0.5, 0.9, 2.6, 7.1, 12.3, 15.3, 20.4, 24.2])\n",
    "\n",
    "def model(x, *pars):\n",
    "    a, b, c, d = pars\n",
    "    return d + (a - d) / (1 + (x / c)**b)\n",
    "\n",
    "from pycse import nlinfit\n",
    "\n",
    "#         a   b  c   d\n",
    "guess = (0.1, 2, 16, 25)\n",
    "p, pint, perr = nlinfit(model, dose, response, guess)\n",
    "for par, interval in zip(['a', 'b', 'c', 'd'], pint):\n",
    "    print(f'{par}: {interval}')"
   ]
  },
  {
   "cell_type": "markdown",
   "metadata": {},
   "source": [
    "For these, the interval of a includes zero, so it is possible that we do not need to define this parameter because its value is really just 0. The rest of them simply indicate there is some uncertainty of the true value of the parameters but they are probably not zero."
   ]
  },
  {
   "cell_type": "code",
   "execution_count": 9,
   "metadata": {},
   "outputs": [
    {
     "data": {
      "image/png": "[encoded data removed]",
      "text/plain": [
       "<Figure size 432x288 with 1 Axes>"
      ]
     },
     "metadata": {},
     "output_type": "display_data"
    }
   ],
   "source": [
    "%matplotlib inline\n",
    "import matplotlib.pyplot as plt\n",
    "plt.plot(dose, response, 'bo')\n",
    "\n",
    "fitd = np.linspace(0, dose.max())\n",
    "plt.plot(fitd, model(fitd, *p))\n",
    "plt.xlabel('Dose')\n",
    "plt.ylabel('Response');"
   ]
  },
  {
   "cell_type": "markdown",
   "metadata": {},
   "source": [
    "The fit looks reasonable."
   ]
  },
  {
   "cell_type": "code",
   "execution_count": 13,
   "metadata": {},
   "outputs": [
    {
     "data": {
      "image/png": "[encoded data removed]",
      "text/plain": [
       "<Figure size 432x288 with 1 Axes>"
      ]
     },
     "metadata": {},
     "output_type": "display_data"
    }
   ],
   "source": [
    "plt.plot(dose, response - model(dose, *p), 'bo-')\n",
    "plt.xlabel('Dose')\n",
    "plt.ylabel('error');"
   ]
  },
  {
   "cell_type": "markdown",
   "metadata": {},
   "source": [
    "It is not obvious there are any trends there. There are roughly equal numbers of points above and below zero, and the they roughly alternate. This seems like a pretty good distribution of errors."
   ]
  }
 ],
 "metadata": {
  "kernelspec": {
   "display_name": "Python 3",
   "language": "python",
   "name": "python3"
  },
  "language_info": {
   "codemirror_mode": {
    "name": "ipython",
    "version": 3
   },
   "file_extension": ".py",
   "mimetype": "text/x-python",
   "name": "python",
   "nbconvert_exporter": "python",
   "pygments_lexer": "ipython3",
   "version": "3.6.0"
  },
  "org": null
 },
 "nbformat": 4,
 "nbformat_minor": 1
}
