{
 "cells": [
  {
   "cell_type": "markdown",
   "metadata": {},
   "source": [
    "**This is a quiz. You are required to be in class to work on this. By turning this in you certify that it is your own work that you did in class and you have not received any unauthorized assistance. Answers turned in after 5:20pm may not be considered.**\n",
    "\n"
   ]
  },
  {
   "cell_type": "markdown",
   "metadata": {},
   "source": [
    "### Academic honesty statement\n",
    "\n"
   ]
  },
  {
   "cell_type": "markdown",
   "metadata": {},
   "source": [
    "Place your academic honesty statement here. Here are some acceptable examples.\n",
    "\n",
    "-   I worked alone on this assignment.\n",
    "-   I worked with <span class=\"underline\"><span class=\"underline\"><span class=\"underline\"><span class=\"underline\">\\_\\_</span></span></span></span> on this assignment.”\n",
    "-   I received assistance from <span class=\"underline\"><span class=\"underline\"><span class=\"underline\"><span class=\"underline\">\\_</span></span></span></span> on this assignment.\n",
    "\n"
   ]
  },
  {
   "cell_type": "markdown",
   "metadata": {},
   "source": [
    "### Pressure drop with turbulent flow\n",
    "\n"
   ]
  },
  {
   "cell_type": "markdown",
   "metadata": {},
   "source": [
    "In a cylindrical pipe of uniform diameter $D$ the pressure loss due to viscous effects $\\Delta p$ is proportional to the length of the pipe $L$ and is characterized by:\n",
    "\n",
    "$\\frac{\\Delta p}{L} = f_D \\frac{\\rho}{2}\\frac{v^2}{D}$\n",
    "\n",
    "where $v$ is the mean flow velocity, $\\rho$ is the density of the fluid (kg/m<sup>3</sup>), and $f_D$ is the Darcy friction factor.\n",
    "\n",
    "In turbulent flow with Re > 4000, the friction factor in a smooth pipe is defined by (the log in this equation is the base 10 log):\n",
    "\n",
    "$\\frac{1}{\\sqrt{f_D}} = 1.930 \\log_{10} (Re \\sqrt{f_D} - 0.537)$\n",
    "\n",
    "The Reynolds number is defined by the fluid density ($\\rho$), velocity ($v$), viscosity ($\\mu$) and pipe diameter ($D$) as $Re = \\frac{\\rho v D}{\\mu}$.\n",
    "\n",
    "Use this information to estimate the pressure drop on a 100 m pipe that is 1 cm in diameter, with water ($\\rho=1000 kg/m^3$, $\\mu= 0.001$ Pa &sdot; s) that is flowing at a velocity of 2 m/s. What are the units on the pressure loss?\n",
    "\n"
   ]
  },
  {
   "cell_type": "code",
   "execution_count": 1,
   "metadata": {},
   "outputs": [],
   "source": []
  },
  {
   "cell_type": "markdown",
   "metadata": {},
   "source": [
    "### solution\n",
    "\n"
   ]
  },
  {
   "cell_type": "markdown",
   "metadata": {},
   "source": [
    "This problem requires you to solve for $f_D$, and then evaluate the expression to estimate $\\Delta P$. The units of the pressure loss are Pa.\n",
    "\n"
   ]
  },
  {
   "cell_type": "code",
   "execution_count": 2,
   "metadata": {},
   "outputs": [
    {
     "name": "stdout",
     "output_type": "stream",
     "text": [
      "20000.0\n",
      "0.022238232581232278\n",
      "The pressure drop is 444765 Pa\n"
     ]
    }
   ],
   "source": [
    "import numpy as np\n",
    "from scipy.optimize import fsolve\n",
    "rho = 1000\n",
    "mu = 0.001\n",
    "v = 2\n",
    "D = 0.01\n",
    "L = 100\n",
    "\n",
    "Re = rho * v * D / mu\n",
    "print(Re)\n",
    "\n",
    "def objective(fd):\n",
    "    return 1 / np.sqrt(fd) - 1.930 * np.log10(Re * np.sqrt(fd) - 0.537)\n",
    "\n",
    "fd, = fsolve(objective, 0.006)\n",
    "print(fd)\n",
    "print(f'The pressure drop is {fd * rho / 2 * v**2 / D * L:1.0f} Pa')"
   ]
  }
 ],
 "metadata": {
  "kernelspec": {
   "display_name": "Python 3",
   "language": "python",
   "name": "python3"
  },
  "language_info": {
   "codemirror_mode": {
    "name": "ipython",
    "version": 3
   },
   "file_extension": ".py",
   "mimetype": "text/x-python",
   "name": "python",
   "nbconvert_exporter": "python",
   "pygments_lexer": "ipython3",
   "version": "3.7.3"
  },
  "org": null
 },
 "nbformat": 4,
 "nbformat_minor": 1
}
