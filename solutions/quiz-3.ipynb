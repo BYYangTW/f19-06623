{
 "cells": [
  {
   "cell_type": "markdown",
   "metadata": {},
   "source": [
    "**This is a quiz. You are required to be in class to work on this. By turning this in you certify that it is your own work that you did in class and you have not received any unauthorized assistance. Answers turned in after 5:20pm may not be considered.**\n",
    "\n"
   ]
  },
  {
   "cell_type": "markdown",
   "metadata": {},
   "source": [
    "### Academic honesty statement\n",
    "\n"
   ]
  },
  {
   "cell_type": "markdown",
   "metadata": {},
   "source": [
    "Place your academic honesty statement here. Here are some acceptable examples.\n",
    "\n",
    "-   I worked alone on this assignment.\n",
    "-   I worked with <span class=\"underline\"><span class=\"underline\"><span class=\"underline\"><span class=\"underline\">\\_\\_</span></span></span></span> on this assignment.”\n",
    "-   I received assistance from <span class=\"underline\"><span class=\"underline\"><span class=\"underline\"><span class=\"underline\">\\_</span></span></span></span> on this assignment.\n",
    "\n"
   ]
  },
  {
   "cell_type": "markdown",
   "metadata": {},
   "source": [
    "### Maximize the area of a rectangle\n",
    "\n"
   ]
  },
  {
   "cell_type": "markdown",
   "metadata": {},
   "source": [
    "For a rectangle with a perimeter of 20 m, find the dimensions that maximize its area. What is the maximum area?\n",
    "\n"
   ]
  },
  {
   "cell_type": "code",
   "execution_count": 1,
   "metadata": {},
   "outputs": [],
   "source": []
  },
  {
   "cell_type": "markdown",
   "metadata": {},
   "source": [
    "Show by some method that there is only one maximum.\n",
    "\n"
   ]
  },
  {
   "cell_type": "code",
   "execution_count": 1,
   "metadata": {},
   "outputs": [],
   "source": []
  },
  {
   "cell_type": "markdown",
   "metadata": {},
   "source": [
    "### solution\n",
    "\n"
   ]
  },
  {
   "cell_type": "markdown",
   "metadata": {},
   "source": [
    "I think the easiest answer is to use an equality constraint, but it is also easy to use the method of elimination. Here is the constraint method. "
   ]
  },
  {
   "cell_type": "code",
   "execution_count": 1,
   "metadata": {},
   "outputs": [
    {
     "data": {
      "text/plain": [
       "     fun: -25.0\n",
       "     jac: array([-5., -5.])\n",
       " message: 'Optimization terminated successfully.'\n",
       "    nfev: 8\n",
       "     nit: 2\n",
       "    njev: 2\n",
       "  status: 0\n",
       " success: True\n",
       "       x: array([5., 5.])"
      ]
     },
     "execution_count": 1,
     "metadata": {},
     "output_type": "execute_result"
    }
   ],
   "source": [
    "def objective(X):\n",
    "    length, width = X\n",
    "    return -length * width\n",
    "\n",
    "def constraint(X):\n",
    "    length, width = X\n",
    "    return 20 - 2 * length - 2 * width\n",
    "\n",
    "from scipy.optimize import minimize\n",
    "\n",
    "minimize(objective, (4, 6), constraints={'type': 'eq', 'fun': constraint})"
   ]
  },
  {
   "cell_type": "markdown",
   "metadata": {},
   "source": [
    "To show that there is only one maximum, the most straight forward way is a plot. We know the area is L * W, and that the perimeter is 20 = 2 * L + 2 * W. That means we can solve for one of these (method of elimination) and then plot the area as a function of the other. For example, W = 10 - L. We can't have negative W, so we only need to consider L from 0 to 10."
   ]
  },
  {
   "cell_type": "code",
   "execution_count": 5,
   "metadata": {},
   "outputs": [
    {
     "data": {
      "text/plain": [
       "Text(0, 0.5, 'A')"
      ]
     },
     "execution_count": 5,
     "metadata": {},
     "output_type": "execute_result"
    },
    {
     "data": {
      "image/png": "[encoded data removed]",
      "text/plain": [
       "<Figure size 432x288 with 1 Axes>"
      ]
     },
     "metadata": {},
     "output_type": "display_data"
    }
   ],
   "source": [
    "import numpy as np\n",
    "%matplotlib inline\n",
    "import matplotlib.pyplot as plt\n",
    "L = np.linspace(0, 10)\n",
    "A = L * (10 - L)\n",
    "plt.plot(L, A)\n",
    "plt.xlabel('L')\n",
    "plt.ylabel('A')"
   ]
  },
  {
   "cell_type": "markdown",
   "metadata": {},
   "source": [
    "You can see there is only one maximum"
   ]
  }
 ],
 "metadata": {
  "kernelspec": {
   "display_name": "Python 3",
   "language": "python",
   "name": "python3"
  },
  "language_info": {
   "codemirror_mode": {
    "name": "ipython",
    "version": 3
   },
   "file_extension": ".py",
   "mimetype": "text/x-python",
   "name": "python",
   "nbconvert_exporter": "python",
   "pygments_lexer": "ipython3",
   "version": "3.6.0"
  },
  "org": null
 },
 "nbformat": 4,
 "nbformat_minor": 1
}
