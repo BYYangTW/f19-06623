{
 "cells": [
  {
   "cell_type": "markdown",
   "metadata": {},
   "source": [
    "The height of a leaking tank is defined by the following differential equation\n",
    "\n",
    "$\\frac{dh}{dt} = -26.56 \\frac{A}{B} \\sqrt{h}$ where $B$ is the cross-sectional area of the tank, and $A$ is the cross-sectional area of the hole where the leak occurs. The constant -26.56 has units of $\\sqrt{(cm/s^2)}$.\n",
    "\n",
    "In this equation,\n",
    "\n",
    "Assuming that the tank is 2m in diameter, the hole is 1 cm in diameter, and the liquid level in the tank is initially at 2.25 m, our objective is to estimate when the tank will be empty.\n",
    "\n"
   ]
  },
  {
   "cell_type": "markdown",
   "metadata": {},
   "source": [
    "### Analytical solution\n",
    "\n"
   ]
  },
  {
   "cell_type": "markdown",
   "metadata": {},
   "source": [
    "This differential equation can be analytically solved by separation of variables and integration. Find an analytical solution and plot it. Solve this analytically to find the time when $h=0$.\n",
    "\n"
   ]
  },
  {
   "cell_type": "code",
   "execution_count": 1,
   "metadata": {},
   "outputs": [],
   "source": []
  },
  {
   "cell_type": "markdown",
   "metadata": {},
   "source": [
    "### Integral solution\n",
    "\n"
   ]
  },
  {
   "cell_type": "markdown",
   "metadata": {},
   "source": [
    "If you separate the variables in the differential equation, and then integrate both sides, the time integral will be trivial and you can then solve for the time to empty the tank by using the `quad` function to evaluate the integral on $h$ by setting the integral limits from the initial height to zero.\n",
    "\n"
   ]
  },
  {
   "cell_type": "code",
   "execution_count": 1,
   "metadata": {},
   "outputs": [],
   "source": []
  },
  {
   "cell_type": "markdown",
   "metadata": {},
   "source": [
    "### Find a solution with solve_ivp\n",
    "\n"
   ]
  },
  {
   "cell_type": "markdown",
   "metadata": {},
   "source": [
    "Compute and plot a solution to the ODE using scipy.integrate.solve\\_ivp. Note that this problem is a little problematic as the height approaches zero. If there are any errors where the integration algorithm predicts that the height goes negative (the function approaches zero, and the derivative is negative, so this could happen), there is an error in the sqrt function and the integration terminates. Nevertheless, try this and plot your solution. Estimate the time to empty the tank based on your solution.\n",
    "\n"
   ]
  },
  {
   "cell_type": "code",
   "execution_count": 1,
   "metadata": {},
   "outputs": [],
   "source": []
  },
  {
   "cell_type": "markdown",
   "metadata": {},
   "source": [
    "### Use a change of variables to fix the sqrt error\n",
    "\n"
   ]
  },
  {
   "cell_type": "markdown",
   "metadata": {},
   "source": [
    "You can use a change of variables to solve the problem with the sqrt. Define a new variable $v = \\sqrt{h}$. Use this to change the ODE into a new form based on $\\frac{dv}{dt}$. Use this form with `solve_ivp` and an event to solve for the time where the tank is empty.\n",
    "\n"
   ]
  },
  {
   "cell_type": "code",
   "execution_count": 1,
   "metadata": {},
   "outputs": [],
   "source": []
  },
  {
   "cell_type": "markdown",
   "metadata": {},
   "source": [
    "### Solution\n",
    "\n"
   ]
  },
  {
   "cell_type": "markdown",
   "metadata": {},
   "source": [
    "This is separable, so you can work out:\n",
    "\n",
    "$\\int_{h0}{h}\\frac{dH}{\\sqrt{h}} = \\int_0^t -26.56 \\frac{A}{B} dt$\n",
    "\n",
    "which leads to: $2h^{1/2} - 2h_0^{1/2} = -26.56 \\frac{A}{B}  t$ or $h(t) = (h_0^{1/2} - 13 \\frac{A}{B} t)^2$.\n",
    "\n"
   ]
  },
  {
   "cell_type": "code",
   "execution_count": 1,
   "metadata": {},
   "outputs": [
    {
     "name": "stdout",
     "output_type": "stream",
     "text": [
      "# Out [1]:\n",
      "# output\n",
      "0.000332\n",
      "\n",
      "# text/plain\n",
      "[<matplotlib.lines.Line2D at 0x11881fd30>]\n",
      "\n",
      "# text/plain\n",
      "<Figure size 432x288 with 1 Axes>\n",
      "\n",
      "# image/png"
     ]
    },
    {
     "data": {
      "image/png": "[encoded data removed]",
      "text/plain": [
       "<matplotlib.figure.Figure>"
      ]
     },
     "metadata": {},
     "output_type": "display_data"
    }
   ],
   "source": [
    "%matplotlib inline\n",
    "import matplotlib.pyplot as plt\n",
    "import numpy as np\n",
    "\n",
    "d1 = 1   # cm, hole diameter\n",
    "A = np.pi * d1**2 / 4\n",
    "\n",
    "d2 = 200 # cm, cylinder diamter\n",
    "B = np.pi * d2**2 / 4\n",
    "\n",
    "\n",
    "h0 = 225 # cm, initial height\n",
    "print(26.56 / 2 * A / B)\n",
    "t = np.linspace(0, 50000)\n",
    "h = (np.sqrt(h0) - 26.56 / 2 * A / B * t)**2\n",
    "plt.plot(t, h)"
   ]
  },
  {
   "cell_type": "markdown",
   "metadata": {},
   "source": [
    "To get the time when h = 0: $0 = \\sqrt{h0}  - 26.56 / 2 * A / B t$\n",
    "\n"
   ]
  },
  {
   "cell_type": "code",
   "execution_count": 1,
   "metadata": {},
   "outputs": [
    {
     "name": "stdout",
     "output_type": "stream",
     "text": [
      "# Out [2]:\n",
      "# output\n",
      "The time to empty the tank is 45181 seconds."
     ]
    }
   ],
   "source": [
    "t = -np.sqrt(h0) / (-26.56 / 2 * A / B)\n",
    "print(f'The time to empty the tank is {t:1.0f} seconds.')"
   ]
  },
  {
   "cell_type": "code",
   "execution_count": 1,
   "metadata": {},
   "outputs": [
    {
     "name": "stdout",
     "output_type": "stream",
     "text": [
      "# Out [3]:\n",
      "# text/plain\n",
      "45180.72289156624"
     ]
    }
   ],
   "source": [
    "def integrand(h):\n",
    "    return 1 / np.sqrt(h)\n",
    "\n",
    "from scipy.integrate import quad\n",
    "\n",
    "I, err = quad(integrand, h0, 0)\n",
    "I  * B / A / -26.56"
   ]
  },
  {
   "cell_type": "code",
   "execution_count": 1,
   "metadata": {},
   "outputs": [
    {
     "name": "stdout",
     "output_type": "stream",
     "text": [
      "# Out [4]:\n",
      "# output\n",
      "/Users/jkitchin/anaconda/lib/python3.6/site-packages/ipykernel_launcher.py:2: RuntimeWarning: invalid value encountered in sqrt\n",
      "\n",
      "\n",
      "# text/plain\n",
      "45180.736260076\n",
      "\n",
      "# text/plain\n",
      "<Figure size 432x288 with 1 Axes>\n",
      "\n",
      "# image/png"
     ]
    },
    {
     "data": {
      "image/png": "[encoded data removed]",
      "text/plain": [
       "<matplotlib.figure.Figure>"
      ]
     },
     "metadata": {},
     "output_type": "display_data"
    }
   ],
   "source": [
    "def ode(t, h):\n",
    "    return -26.56 * A / B * np.sqrt(h)\n",
    "\n",
    "from scipy.integrate import solve_ivp\n",
    "\n",
    "sol = solve_ivp(ode, t_span=(0, 60000), y0=[h0])\n",
    "%matplotlib inline\n",
    "import matplotlib.pyplot as plt\n",
    "plt.plot(sol.t, sol.y.T)\n",
    "sol.t[-1]"
   ]
  },
  {
   "cell_type": "code",
   "execution_count": 1,
   "metadata": {},
   "outputs": [
    {
     "name": "stdout",
     "output_type": "stream",
     "text": [
      "# Out [5]:\n",
      "# text/plain\n",
      "  message: 'A termination event occurred.'\n",
      "     nfev: 38\n",
      "     njev: 0\n",
      "      nlu: 0\n",
      "      sol: None\n",
      "   status: 1\n",
      "  success: True\n",
      "        t: array([0.00000000e+00, 8.53093092e-01, 9.38402402e+00, 9.46933333e+01,\n",
      "       9.47786426e+02, 9.47871735e+03, 4.51807229e+04])\n",
      " t_events: [array([45180.72289157])]\n",
      "        y: array([[ 1.50000000e+01,  1.49997168e+01,  1.49968845e+01,\n",
      "         1.49685618e+01,  1.46853349e+01,  1.18530658e+01,\n",
      "        -3.55271368e-15]])"
     ]
    }
   ],
   "source": [
    "def dvdt(t, v):\n",
    "    return -26.56 * A / B / 2\n",
    "\n",
    "def event(t, v):\n",
    "    return v[0]\n",
    "\n",
    "event.terminal = True\n",
    "\n",
    "v0 = np.sqrt(h0)\n",
    "sol = solve_ivp(dvdt, t_span=(0, 50000), y0=[v0], events=event)\n",
    "sol"
   ]
  }
 ],
 "metadata": {
  "kernelspec": {
   "display_name": "Python 3",
   "language": "python",
   "name": "python3"
  },
  "language_info": {
   "codemirror_mode": {
    "name": "ipython",
    "version": 3
   },
   "file_extension": ".py",
   "mimetype": "text/x-python",
   "name": "python",
   "nbconvert_exporter": "python",
   "pygments_lexer": "ipython3",
   "version": "3.6.8"
  },
  "org": null
 },
 "nbformat": 4,
 "nbformat_minor": 1
}
