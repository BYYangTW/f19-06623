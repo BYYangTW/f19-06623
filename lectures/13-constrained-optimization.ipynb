{
 "cells": [
  {
   "cell_type": "markdown",
   "metadata": {},
   "source": [
    "- KEYWORDS: scipy.optimize.minimize\n"
   ]
  },
  {
   "cell_type": "markdown",
   "metadata": {},
   "source": [
    "## Constrained minimization\n",
    "\n"
   ]
  },
  {
   "cell_type": "markdown",
   "metadata": {},
   "source": [
    "So far we have predominantly focused on unconstrained minimization. Sometimes, however, we seek to minimize an objective function and find solutions that meet some kind of constraint.\n",
    "\n",
    "The volume of a cylindrical can is $V = (\\pi/4) D^2 L$. The cost of the top/bottom of the can is \\\\$0.025 / cm<sup>2</sup>, and the cost of the sides is \\\\$0.043 / cm<sup>2</sup>. If we require a volume of 355 cm<sup>3</sup>, what is the optimal length and diameter to minimize the cost of the can?\n",
    "\n",
    "This is a constrained minimization; we want to minimize the cost by changing the height of the can and the diameter of the top while maintaining the volume.\n",
    "\n",
    "The key to solving this problem is recognizing that the equality constraint means the can length and diameter are not independent because of the equation for the volume. This allows us to solve for one, and then use it in the cost function\n",
    "\n"
   ]
  },
  {
   "cell_type": "code",
   "execution_count": 1,
   "metadata": {},
   "outputs": [
    {
     "name": "stdout",
     "output_type": "stream",
     "text": [
      "# Out [1]:\n",
      "# text/plain\n",
      "Text(0, 0.5, 'Cost')\n",
      "\n",
      "# text/plain\n",
      "<Figure size 432x288 with 1 Axes>\n",
      "\n",
      "# image/png"
     ]
    },
    {
     "data": {
      "image/png": "[encoded data removed]",
      "text/plain": [
       "<matplotlib.figure.Figure>"
      ]
     },
     "metadata": {},
     "output_type": "display_data"
    }
   ],
   "source": [
    "import numpy as np\n",
    "from scipy.optimize import minimize\n",
    "\n",
    "V = 355\n",
    "ct = 0.025  # Cost of the top $/cm**2\n",
    "cs = 0.043  # Cost of the side $/cm**2\n",
    "\n",
    "def cost(D):\n",
    "    radius = D / 2\n",
    "    top_area = np.pi * radius**2\n",
    "    top_bottom_cost = 2 * ct * top_area\n",
    "    L = 4 * V / np.pi / D**2 # solved from the volume\n",
    "    side_cost = cs * L * np.pi * D\n",
    "    return top_bottom_cost + side_cost\n",
    "\n",
    "D = np.linspace(1, 15)\n",
    "c = cost(D)\n",
    "\n",
    "%matplotlib inline\n",
    "import matplotlib.pyplot as plt\n",
    "plt.plot(D, c)\n",
    "plt.xlabel('Diameter')\n",
    "plt.ylabel('Cost')"
   ]
  },
  {
   "cell_type": "code",
   "execution_count": 1,
   "metadata": {},
   "outputs": [
    {
     "name": "stdout",
     "output_type": "stream",
     "text": [
      "# Out [2]:\n",
      "# output\n",
      "      fun: 9.960758701630086\n",
      " hess_inv: array([[4.23703911]])\n",
      "      jac: array([-1.1920929e-07])\n",
      "  message: 'Optimization terminated successfully.'\n",
      "     nfev: 18\n",
      "      nit: 5\n",
      "     njev: 6\n",
      "   status: 0\n",
      "  success: True\n",
      "        x: array([9.19508297])\n",
      "The optimal diameter is 9.20 cm. The optimal length is 5.35 cm. The cost is $9.96."
     ]
    }
   ],
   "source": [
    "sol = minimize(cost, 10)\n",
    "print(sol)\n",
    "D, = sol.x\n",
    "L = 4 * V / np.pi / D**2\n",
    "print(f'The optimal diameter is {D:1.2f} cm. The optimal length is {L:1.2f} cm. The cost is ${sol.fun:1.2f}.')"
   ]
  },
  {
   "cell_type": "markdown",
   "metadata": {},
   "source": [
    "Here we used the method of elimination to solve an *equality constraint* minimization.\n",
    "\n"
   ]
  },
  {
   "cell_type": "markdown",
   "metadata": {},
   "source": [
    "### scipy.optimize.minimize with constraints\n",
    "\n"
   ]
  },
  {
   "cell_type": "markdown",
   "metadata": {},
   "source": [
    "In other problems, we might simply require some part of the solution to be less than or greater than some number. We call these inequality constraints.\n",
    "\n",
    "Here we will consider a strategy for solving these kinds of problems.\n",
    "\n",
    "`scipy.optimize.minimize` can be used with constraints. Before we get to how this is done, we need to introduce a new data type in Python: the dictionary.\n",
    "\n",
    "A dictionary, also known as a lookup or hash table, is a data structure that allows you to look up values by a key. A dictionary is created with curly brackets {} that contain `key: value` pairs. You can use anything that is \"hashable\" as a key, and anything as a value. Things that are hashable are: strings, numbers, tuples. You cannot use a list or array; they are mutable and not hashable. Here is an example.\n",
    "\n"
   ]
  },
  {
   "cell_type": "code",
   "execution_count": 1,
   "metadata": {},
   "outputs": [
    {
     "name": "stdout",
     "output_type": "stream",
     "text": [
      "# Out [3]:"
     ]
    }
   ],
   "source": [
    "def f(x):\n",
    "    return x**2\n",
    "\n",
    "d = {'a': 1,\n",
    "     'type': 'function',\n",
    "     'func': f,\n",
    "     4: 'int',\n",
    "     5.0: 'float'}"
   ]
  },
  {
   "cell_type": "markdown",
   "metadata": {},
   "source": [
    "Now, we can retrieve data from it like this:\n",
    "\n"
   ]
  },
  {
   "cell_type": "code",
   "execution_count": 1,
   "metadata": {},
   "outputs": [
    {
     "name": "stdout",
     "output_type": "stream",
     "text": [
      "# Out [4]:\n",
      "# text/plain\n",
      "(1, 'int', 'float')"
     ]
    }
   ],
   "source": [
    "d['a'], d[4], d[5.0]"
   ]
  },
  {
   "cell_type": "markdown",
   "metadata": {},
   "source": [
    "It is usually an error to ask for a key that does not exist.\n",
    "\n"
   ]
  },
  {
   "cell_type": "code",
   "execution_count": 1,
   "metadata": {},
   "outputs": [
    {
     "name": "stdout",
     "output_type": "stream",
     "text": [
      "# Out [5]:\n",
      "# output\n",
      "\n",
      "KeyErrorTraceback (most recent call last)\n",
      "<ipython-input-5-e786609d9548> in <module>()\n",
      "----> 1 d['NotHere']\n",
      "\n",
      "KeyError: 'NotHere'"
     ]
    }
   ],
   "source": [
    "d['NotHere']"
   ]
  },
  {
   "cell_type": "markdown",
   "metadata": {},
   "source": [
    "But, here is a little surprise. The dictionary has a key for 5.0 (a float), but not for 5 (an int):\n",
    "\n"
   ]
  },
  {
   "cell_type": "code",
   "execution_count": 1,
   "metadata": {},
   "outputs": [
    {
     "name": "stdout",
     "output_type": "stream",
     "text": [
      "# Out [6]:\n",
      "# text/plain\n",
      "('float', 'float', 5, 5)"
     ]
    }
   ],
   "source": [
    "d[5], d[5.0], hash(5), hash(5.0)"
   ]
  },
  {
   "cell_type": "markdown",
   "metadata": {},
   "source": [
    "The integer 5 and float 5.0 hash to the same value, so the dictionary returns something for both of them.\n",
    "\n",
    "We can get the function, and call it:\n",
    "\n"
   ]
  },
  {
   "cell_type": "code",
   "execution_count": 1,
   "metadata": {},
   "outputs": [
    {
     "name": "stdout",
     "output_type": "stream",
     "text": [
      "# Out [7]:\n",
      "# text/plain\n",
      "9"
     ]
    }
   ],
   "source": [
    "d['func'](3)"
   ]
  },
  {
   "cell_type": "markdown",
   "metadata": {},
   "source": [
    "The reason we have to consider dictionaries is that `scipy.optimize.minimize` uses dictionaries to specify constraints. See the constraints arg here.\n",
    "\n"
   ]
  },
  {
   "cell_type": "code",
   "execution_count": 1,
   "metadata": {},
   "outputs": [
    {
     "name": "stdout",
     "output_type": "stream",
     "text": [
      "# Out [8]:"
     ]
    }
   ],
   "source": [
    "from scipy.optimize import minimize\n",
    "?minimize"
   ]
  },
  {
   "cell_type": "markdown",
   "metadata": {},
   "source": [
    "We have to write functions that codify the constraints, and then pass them to minimize.\n",
    "\n"
   ]
  },
  {
   "cell_type": "markdown",
   "metadata": {},
   "source": [
    "### Equality constraints\n",
    "\n"
   ]
  },
  {
   "cell_type": "markdown",
   "metadata": {},
   "source": [
    "We first repeat the problem we did before.\n",
    "\n",
    "The volume of a cylindrical can is $V = (\\pi/4) D^2 L$. The cost of the top/bottom of the can is \\\\$0.025 / cm<sup>2</sup>, and the cost of the sides is \\\\$0.043 / cm<sup>2</sup>. If we require a volume of 355 cm<sup>3</sup>, what is the optimal length and diameter to minimize the cost of the can?\n",
    "\n",
    "We have two variables to modify: $D, L$, but there is an equality constraint in this problem that is described in the volume equation. We codify this in a function that returns zero when the constraint is satisfied. We also define a variable for the constraints dictionary.\n",
    "\n"
   ]
  },
  {
   "cell_type": "code",
   "execution_count": 1,
   "metadata": {},
   "outputs": [
    {
     "name": "stdout",
     "output_type": "stream",
     "text": [
      "# Out [9]:"
     ]
    }
   ],
   "source": [
    "import numpy as np\n",
    "\n",
    "def equality_constraint(x):\n",
    "    D, L = x\n",
    "    radius = D / 2\n",
    "    V = np.pi * radius**2 * L\n",
    "    return V - 355\n",
    "\n",
    "constraints = {'type': 'eq', 'fun': equality_constraint}"
   ]
  },
  {
   "cell_type": "markdown",
   "metadata": {},
   "source": [
    "Now, we can setup the objective function with the two variables we want to vary to find the minimum. We still need a guess. The advantage of the previous method of elimination is we had a 1D objective that was easy to plot. Here, we would have to consider a contour plot to see where the minimum is. We just use our previous answer.\n",
    "\n"
   ]
  },
  {
   "cell_type": "code",
   "execution_count": 1,
   "metadata": {},
   "outputs": [
    {
     "name": "stdout",
     "output_type": "stream",
     "text": [
      "# Out [10]:\n",
      "# text/plain\n",
      "     fun: 9.960758701245243\n",
      "     jac: array([1.44435978, 1.24215055])\n",
      " message: 'Optimization terminated successfully.'\n",
      "    nfev: 28\n",
      "     nit: 7\n",
      "    njev: 7\n",
      "  status: 0\n",
      " success: True\n",
      "       x: array([9.19508759, 5.34597263])"
     ]
    }
   ],
   "source": [
    "cost_top = 0.025  # $/cm^2\n",
    "cost_side = 0.043 # $/cm^2\n",
    "\n",
    "def objective(x):\n",
    "    D, L = x  # Now we vary both variables.\n",
    "    radius = D / 2\n",
    "    top_area = np.pi * radius**2\n",
    "    side_area = L * np.pi * D\n",
    "    cost = (2 * top_area * cost_top) + (side_area * cost_side)\n",
    "    return cost\n",
    "\n",
    "sol = minimize(objective, (9.2, 5), constraints=constraints)\n",
    "equality_constraint(sol.x)\n",
    "objective(sol.x)\n",
    "sol"
   ]
  },
  {
   "cell_type": "markdown",
   "metadata": {},
   "source": [
    "You can have multiple equality constraints, you just make a list of dictionaries. Suppose we seek to minimize $x1 + x2 + x3^2$ subject to the equality constraints $x1=1$, and $x1^2 + x2^2 = 1$. Some analysis suggests that this really means x1=1, x2=0, and then x3 must also be zero to minimize the function, which has a minimum value of 1.\n",
    "\n",
    "Here we can set this up as a minimization problem:\n",
    "\n"
   ]
  },
  {
   "cell_type": "code",
   "execution_count": 1,
   "metadata": {},
   "outputs": [
    {
     "name": "stdout",
     "output_type": "stream",
     "text": [
      "# Out [14]:\n",
      "# text/plain\n",
      "     fun: 1.0000051566408261\n",
      "     jac: array([ 1.        ,  1.        , -0.00425012])\n",
      " message: 'Optimization terminated successfully.'\n",
      "    nfev: 409\n",
      "     nit: 65\n",
      "    njev: 65\n",
      "  status: 0\n",
      " success: True\n",
      "       x: array([ 1.00000000e+00,  6.40736032e-07, -2.12506583e-03])"
     ]
    }
   ],
   "source": [
    "def objective(x):\n",
    "    x1, x2, x3 = x\n",
    "    return x1 + x2 + x3**2\n",
    "\n",
    "def eq1(x):\n",
    "    x1, x2, x3 = x\n",
    "    return x1 - 1   # x = 1\n",
    "\n",
    "def eq2(x):\n",
    "    x1, x2, x3 = x\n",
    "    return x1**2 + x2**2 - 1  # x1**2 + x2**2 = 1\n",
    "\n",
    "constraints = [{'type': 'eq', 'fun': eq1},\n",
    "               {'type': 'eq', 'fun': eq2}]\n",
    "\n",
    "minimize(objective, [0, 0, 0], constraints=constraints)"
   ]
  },
  {
   "cell_type": "markdown",
   "metadata": {},
   "source": [
    "As expected, x1=1, and x2 and x3 are near zero. They are not zero because of tolerance. You can make the tolerance tighter, (say tol=1e-9) to see the difference.\n",
    "\n"
   ]
  },
  {
   "cell_type": "markdown",
   "metadata": {},
   "source": [
    "### Inequality constraints\n",
    "\n"
   ]
  },
  {
   "cell_type": "markdown",
   "metadata": {},
   "source": [
    "Inequality constraints are those where some part of the solution is greater than or less than a value. In `scipy.optimize.minimize` we codify this by writing functions that are non-negative, i.e. **greater than or equal to zero at the solution**.\n",
    "\n",
    "Maximize $x^3 - 3x$ subject to $x \\le 2.5$. First, recall we can rewrite the inequality as $-x \\ge -2.5$, and again as $-x + 2.5 \\ge 0$. That means for our solution we require $-x+2.5$ to be positive. Also, since we are maximizing the function, our objective is multiplied by -1. When possible, it is always a good idea to visualize the problem:\n",
    "\n"
   ]
  },
  {
   "cell_type": "code",
   "execution_count": 1,
   "metadata": {},
   "outputs": [
    {
     "name": "stdout",
     "output_type": "stream",
     "text": [
      "# Out [18]:\n",
      "\n",
      "\n",
      "# text/plain\n",
      "<Figure size 432x288 with 1 Axes>\n",
      "\n",
      "# image/png"
     ]
    },
    {
     "data": {
      "image/png": "[encoded data removed]",
      "text/plain": [
       "<matplotlib.figure.Figure>"
      ]
     },
     "metadata": {},
     "output_type": "display_data"
    }
   ],
   "source": [
    "def objective(x):\n",
    "    return -1 * (x**3 - 3 * x)\n",
    "\n",
    "%matplotlib inline\n",
    "import matplotlib.pyplot as plt\n",
    "\n",
    "x = np.linspace(-3, 3)\n",
    "plt.plot(x, objective(x))\n",
    "plt.axvline(2.5, color='k')"
   ]
  },
  {
   "cell_type": "markdown",
   "metadata": {},
   "source": [
    "You can see by inspection there is a minimum around x=-1, and at x=2.5. Note the one at x=2.5 is not a minimum in the sense that the derivative=0 there, it is just the smallest value that also satisfies the constraint. To solve this problem, we set up the following code:\n",
    "\n"
   ]
  },
  {
   "cell_type": "code",
   "execution_count": 1,
   "metadata": {},
   "outputs": [
    {
     "name": "stdout",
     "output_type": "stream",
     "text": [
      "# Out [19]:\n",
      "# text/plain\n",
      "     fun: -8.124999999955515\n",
      "     jac: array([-15.75000012])\n",
      " message: 'Optimization terminated successfully.'\n",
      "    nfev: 6\n",
      "     nit: 2\n",
      "    njev: 2\n",
      "  status: 0\n",
      " success: True\n",
      "       x: array([2.5])"
     ]
    }
   ],
   "source": [
    "def ieq(x):\n",
    "    return -x + 2.5\n",
    "\n",
    "constraints = {'type': 'ineq', 'fun': ieq}\n",
    "\n",
    "minimize(objective, 3, constraints=constraints)"
   ]
  },
  {
   "cell_type": "markdown",
   "metadata": {},
   "source": [
    "Note that there are two solutions. Which one you get depends on your initial guess.\n",
    "\n"
   ]
  },
  {
   "cell_type": "code",
   "execution_count": 1,
   "metadata": {},
   "outputs": [
    {
     "name": "stdout",
     "output_type": "stream",
     "text": [
      "# Out [20]:\n",
      "# text/plain\n",
      "     fun: -1.999999999942188\n",
      "     jac: array([2.63750553e-05])\n",
      " message: 'Optimization terminated successfully.'\n",
      "    nfev: 13\n",
      "     nit: 4\n",
      "    njev: 4\n",
      "  status: 0\n",
      " success: True\n",
      "       x: array([-0.99999561])"
     ]
    }
   ],
   "source": [
    "minimize(objective, -0.9, constraints=constraints)"
   ]
  },
  {
   "cell_type": "markdown",
   "metadata": {},
   "source": [
    "You have to decide which one is better. In this case, it is the one at x=2.5 which has a higher maximum than the one at x=-1.\n",
    "\n"
   ]
  },
  {
   "cell_type": "markdown",
   "metadata": {},
   "source": [
    "### An application\n",
    "\n"
   ]
  },
  {
   "cell_type": "markdown",
   "metadata": {},
   "source": [
    "Let us suppose that a merry farmer has 75 roods (4 roods = 1 acre) on which to plant two crops: wheat and corn. To produce these crops, it costs the farmer (for seed, water, fertilizer, etc. ) \\\\$120 per rood for the wheat, and \\\\$210 per rood for the corn. The farmer has \\\\$15,000 available for expenses, but after the harvest the farmer must store the crops while awaiting favorable or good market conditions. The farmer has storage space for 4,000 bushels. Each rood yields an average of 110 bushels of wheat or 30 bushels of corn. If the net profit per bushel of wheat (after all the expenses) is \\\\$1.30 and for corn is \\\\$2.00, how should the merry farmer plant the 75 roods to maximize profit?\n",
    "\n",
    "It is not obvious what to do. Wheat is cheaper to plant, and yields more per rood, but it is less profitable.\n",
    "\n",
    "Let $x$ be the number of roods of wheat planted, and $y$ be the number of roods of corn planted. The profit function is: $ P = (110)($1.3)x + (30)($2)y = 143x + 60y $\n",
    "\n",
    "There are some constraint inequalities, specified by the limits on expenses, storage and roodage. They are:\n",
    "\n",
    "$\\$120x + \\$210y <= \\$15000$ (The total amount spent cannot exceed the amount the farm has)\n",
    "\n",
    "$110x + 30y <= 4000$ (The amount generated should not exceed storage space.)\n",
    "\n",
    "$x + y <= 75$ (We cannot plant more space than we have.)\n",
    "\n",
    "$0 <= x$ and $0 <= y $ (all amounts of planted land must be positive.)\n",
    "\n",
    "To solve this problem, we cast it as minimization problem, which minimizes a function f(X) subject to some constraints. We create a proxy function for the negative of profit, which we seek to minimize.\n",
    "\n",
    "Note we use inequality constraints here. You could put some as equality, e.g. if you want to make sure you spend all $15000, or if you want to ensure you fill up your storage. It could be a mistake to require both of those though, as it may be infeasible.\n",
    "\n"
   ]
  },
  {
   "cell_type": "code",
   "execution_count": 1,
   "metadata": {},
   "outputs": [
    {
     "name": "stdout",
     "output_type": "stream",
     "text": [
      "# Out [21]:\n",
      "# text/plain\n",
      "     fun: -6315.624999538349\n",
      "     jac: array([-143.,  -60.])\n",
      " message: 'Optimization terminated successfully.'\n",
      "    nfev: 13\n",
      "     nit: 3\n",
      "    njev: 3\n",
      "  status: 0\n",
      " success: True\n",
      "       x: array([21.875, 53.125])"
     ]
    }
   ],
   "source": [
    "def c1(X):\n",
    "    'Constraint on total cost to plant.'\n",
    "    x, y = X\n",
    "    return -(120 * x + 210 * y - 15000)\n",
    "\n",
    "def c2(X):\n",
    "    'Storage constraint'\n",
    "    x, y = X\n",
    "    return -(110 * x + 30 * y - 4000)\n",
    "\n",
    "def c3(X):\n",
    "    'Land area constraint'\n",
    "    x, y = X\n",
    "    return -(x + y - 75)\n",
    "\n",
    "def c4(X):\n",
    "    'positivity constraint'\n",
    "    return X[0]\n",
    "\n",
    "def c5(X):\n",
    "    'positivity constraint'\n",
    "    return X[1]\n",
    "\n",
    "def profit(X):\n",
    "    'Profit function'\n",
    "    x, y = X\n",
    "    return -(143 * x + 60 * y)\n",
    "\n",
    "sol = minimize(profit, [60, 15], constraints=[{'type': 'ineq', 'fun': f} for f in [c1, c2, c3, c4, c5]])\n",
    "sol"
   ]
  },
  {
   "cell_type": "code",
   "execution_count": 1,
   "metadata": {},
   "outputs": [
    {
     "name": "stdout",
     "output_type": "stream",
     "text": [
      "# Out [22]:\n",
      "# output\n",
      "We should plant 21.87 roods of wheat, and 53.12 roods of corn. We will earn $6315.62 in profit."
     ]
    }
   ],
   "source": [
    "print(f'We should plant {sol.x[0]:1.2f} roods of wheat, and {sol.x[1]:1.2f} roods of corn. We will earn ${-sol.fun:1.2f} in profit.')"
   ]
  },
  {
   "cell_type": "markdown",
   "metadata": {},
   "source": [
    "We can always verify aspects of our solution. Here is the land area.\n",
    "\n"
   ]
  },
  {
   "cell_type": "code",
   "execution_count": 1,
   "metadata": {},
   "outputs": [
    {
     "name": "stdout",
     "output_type": "stream",
     "text": [
      "# Out [23]:\n",
      "# output\n",
      "We used 75.00 roods of land"
     ]
    }
   ],
   "source": [
    "print(f'We used {np.sum(sol.x):1.2f} roods of land')"
   ]
  },
  {
   "cell_type": "code",
   "execution_count": 1,
   "metadata": {},
   "outputs": [
    {
     "name": "stdout",
     "output_type": "stream",
     "text": [
      "# Out [26]:\n",
      "# output\n",
      "We will pay $13781.25 to plant.\n",
      "We will store 4000 bushels."
     ]
    }
   ],
   "source": [
    "print(f'We will pay ${sol.x[0]*120 + sol.x[1]*210:1.2f} to plant.')\n",
    "print(f'We will store {sol.x[0] * 110 + sol.x[1] * 30:1.0f} bushels.')"
   ]
  },
  {
   "cell_type": "markdown",
   "metadata": {},
   "source": [
    "You can see we did not need to spend all the money because we do not have enough storage space to accommodate more crops. It would be a mistake to make these both equality constraints, because then there would be no feasible solution.\n",
    "\n"
   ]
  },
  {
   "cell_type": "markdown",
   "metadata": {},
   "source": [
    "### Summary\n",
    "\n"
   ]
  },
  {
   "cell_type": "markdown",
   "metadata": {},
   "source": [
    "`scipy.optimize.minimize` provides a convenient interface to solving a broad set of optimization problems both unconstrained and constrained. There is a significant body of knowledge hidden from us under this interface. For example there are 14 choices for different optimization algorithms in the interface, and the default one is chosen for you depending on arguments passed to it. It is easy to tell if the defaults are suitable; if you get a solution they are. If you don't get a solution, then you have to assess whether there is a solution, and whether a better algorithm would be appropriate. The details of these algorithms are the subject of dedicated courses in optimization.\n",
    "\n"
   ]
  }
 ],
 "metadata": {
  "kernelspec": {
   "display_name": "Python 3",
   "language": "python",
   "name": "python3"
  },
  "language_info": {
   "codemirror_mode": {
    "name": "ipython",
    "version": 3
   },
   "file_extension": ".py",
   "mimetype": "text/x-python",
   "name": "python",
   "nbconvert_exporter": "python",
   "pygments_lexer": "ipython3",
   "version": "3.6.0"
  },
  "org": {
   "KEYWORDS": "scipy.optimize.minimize"
  }
 },
 "nbformat": 4,
 "nbformat_minor": 1
}
